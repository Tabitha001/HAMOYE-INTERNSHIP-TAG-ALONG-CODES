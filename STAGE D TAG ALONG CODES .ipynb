{
 "cells": [
  {
   "cell_type": "code",
   "execution_count": 35,
   "id": "1c32c131",
   "metadata": {
    "execution": {
     "iopub.execute_input": "2023-03-21T18:10:20.416038Z",
     "iopub.status.busy": "2023-03-21T18:10:20.415052Z",
     "iopub.status.idle": "2023-03-21T18:10:20.423264Z",
     "shell.execute_reply": "2023-03-21T18:10:20.422141Z",
     "shell.execute_reply.started": "2023-03-21T18:10:20.416000Z"
    },
    "papermill": {
     "duration": 8.441808,
     "end_time": "2023-01-15T14:23:58.839788",
     "exception": false,
     "start_time": "2023-01-15T14:23:50.397980",
     "status": "completed"
    },
    "tags": []
   },
   "outputs": [],
   "source": [
    "#import neccessary libraries\n",
    "\n",
    "import os\n",
    "import cv2\n",
    "import pandas as pd\n",
    "import numpy as np\n",
    "import gc\n",
    "import matplotlib.pyplot as plt\n",
    "from matplotlib.image import imread\n",
    "from sklearn.metrics import fbeta_score\n",
    "from tqdm import tqdm\n",
    "import tensorflow as tf\n",
    "from keras import optimizers\n",
    "from tensorflow.keras.models import Sequential \n",
    "from tensorflow.keras.preprocessing.image import ImageDataGenerator\n",
    "from tensorflow.keras.layers import Input , Dense , Dropout , Flatten,\\\n",
    "Conv2D,MaxPooling2D , BatchNormalization\n",
    "from keras.callbacks import ModelCheckpoint, EarlyStopping, ReduceLROnPlateau, History\n",
    "import tensorflow_addons as tfa"
   ]
  },
  {
   "cell_type": "code",
   "execution_count": 36,
   "id": "8529c7ee",
   "metadata": {
    "execution": {
     "iopub.execute_input": "2023-03-21T18:10:21.620417Z",
     "iopub.status.busy": "2023-03-21T18:10:21.619747Z",
     "iopub.status.idle": "2023-03-21T18:10:21.633521Z",
     "shell.execute_reply": "2023-03-21T18:10:21.632487Z",
     "shell.execute_reply.started": "2023-03-21T18:10:21.620379Z"
    },
    "papermill": {
     "duration": 0.043725,
     "end_time": "2023-01-15T14:23:58.891792",
     "exception": false,
     "start_time": "2023-01-15T14:23:58.848067",
     "status": "completed"
    },
    "tags": []
   },
   "outputs": [
    {
     "data": {
      "text/plain": [
       "['sample_submission.csv', 'test-jpg', 'train_classes.csv', 'train-jpg']"
      ]
     },
     "execution_count": 36,
     "metadata": {},
     "output_type": "execute_result"
    }
   ],
   "source": [
    "#load dataset path\n",
    "path = \"../input/planets-dataset/planet/planet\"\n",
    "os.listdir(path)"
   ]
  },
  {
   "cell_type": "code",
   "execution_count": 37,
   "id": "89cf395a",
   "metadata": {
    "execution": {
     "iopub.execute_input": "2023-03-21T18:10:22.819277Z",
     "iopub.status.busy": "2023-03-21T18:10:22.818530Z",
     "iopub.status.idle": "2023-03-21T18:10:22.853846Z",
     "shell.execute_reply": "2023-03-21T18:10:22.852683Z",
     "shell.execute_reply.started": "2023-03-21T18:10:22.819237Z"
    },
    "papermill": {
     "duration": 0.097758,
     "end_time": "2023-01-15T14:23:58.997919",
     "exception": false,
     "start_time": "2023-01-15T14:23:58.900161",
     "status": "completed"
    },
    "tags": []
   },
   "outputs": [
    {
     "data": {
      "text/html": [
       "<div>\n",
       "<style scoped>\n",
       "    .dataframe tbody tr th:only-of-type {\n",
       "        vertical-align: middle;\n",
       "    }\n",
       "\n",
       "    .dataframe tbody tr th {\n",
       "        vertical-align: top;\n",
       "    }\n",
       "\n",
       "    .dataframe thead th {\n",
       "        text-align: right;\n",
       "    }\n",
       "</style>\n",
       "<table border=\"1\" class=\"dataframe\">\n",
       "  <thead>\n",
       "    <tr style=\"text-align: right;\">\n",
       "      <th></th>\n",
       "      <th>image_name</th>\n",
       "      <th>tags</th>\n",
       "    </tr>\n",
       "  </thead>\n",
       "  <tbody>\n",
       "    <tr>\n",
       "      <th>0</th>\n",
       "      <td>train_0</td>\n",
       "      <td>haze primary</td>\n",
       "    </tr>\n",
       "    <tr>\n",
       "      <th>1</th>\n",
       "      <td>train_1</td>\n",
       "      <td>agriculture clear primary water</td>\n",
       "    </tr>\n",
       "    <tr>\n",
       "      <th>2</th>\n",
       "      <td>train_2</td>\n",
       "      <td>clear primary</td>\n",
       "    </tr>\n",
       "    <tr>\n",
       "      <th>3</th>\n",
       "      <td>train_3</td>\n",
       "      <td>clear primary</td>\n",
       "    </tr>\n",
       "    <tr>\n",
       "      <th>4</th>\n",
       "      <td>train_4</td>\n",
       "      <td>agriculture clear habitation primary road</td>\n",
       "    </tr>\n",
       "  </tbody>\n",
       "</table>\n",
       "</div>"
      ],
      "text/plain": [
       "  image_name                                       tags\n",
       "0    train_0                               haze primary\n",
       "1    train_1            agriculture clear primary water\n",
       "2    train_2                              clear primary\n",
       "3    train_3                              clear primary\n",
       "4    train_4  agriculture clear habitation primary road"
      ]
     },
     "execution_count": 37,
     "metadata": {},
     "output_type": "execute_result"
    }
   ],
   "source": [
    "#read train data with pandas\n",
    "train_data = pd.read_csv(os.path.join(path,\"train_classes.csv\"))\n",
    "train_data.head()"
   ]
  },
  {
   "cell_type": "code",
   "execution_count": 38,
   "id": "dada769a",
   "metadata": {
    "execution": {
     "iopub.execute_input": "2023-03-21T18:10:23.931709Z",
     "iopub.status.busy": "2023-03-21T18:10:23.930993Z",
     "iopub.status.idle": "2023-03-21T18:10:23.971226Z",
     "shell.execute_reply": "2023-03-21T18:10:23.970042Z",
     "shell.execute_reply.started": "2023-03-21T18:10:23.931671Z"
    },
    "papermill": {
     "duration": 0.080777,
     "end_time": "2023-01-15T14:23:59.087964",
     "exception": false,
     "start_time": "2023-01-15T14:23:59.007187",
     "status": "completed"
    },
    "tags": []
   },
   "outputs": [
    {
     "name": "stdout",
     "output_type": "stream",
     "text": [
      "['haze', 'primary', 'agriculture', 'clear', 'water', 'habitation', 'road', 'cultivation', 'slash_burn', 'cloudy', 'partly_cloudy', 'conventional_mine', 'bare_ground', 'artisinal_mine', 'blooming', 'selective_logging', 'blow_down']\n",
      "\n",
      "Number of unique_tags in the train_data: 17\n"
     ]
    }
   ],
   "source": [
    "np_tags = train_data['tags'].to_numpy()\n",
    "unique_tags = []\n",
    "\n",
    "#loop through the np_tags\n",
    "for tags in np_tags:\n",
    "    labels = tags.split()\n",
    "    for label in labels:\n",
    "        if label not in unique_tags:\n",
    "            unique_tags.append(label)\n",
    "print(unique_tags)\n",
    "print(f\"\\nNumber of unique_tags in the train_data: {len(unique_tags)}\")"
   ]
  },
  {
   "cell_type": "markdown",
   "id": "f5db348a",
   "metadata": {
    "papermill": {
     "duration": 0.022883,
     "end_time": "2023-01-15T14:23:59.125232",
     "exception": false,
     "start_time": "2023-01-15T14:23:59.102349",
     "status": "completed"
    },
    "tags": []
   },
   "source": [
    "encode the tags with one-hot encoder using the lambda function\n"
   ]
  },
  {
   "cell_type": "code",
   "execution_count": 39,
   "id": "fac19ee2",
   "metadata": {
    "execution": {
     "iopub.execute_input": "2023-03-21T18:10:40.975315Z",
     "iopub.status.busy": "2023-03-21T18:10:40.974767Z",
     "iopub.status.idle": "2023-03-21T18:10:41.383250Z",
     "shell.execute_reply": "2023-03-21T18:10:41.382216Z",
     "shell.execute_reply.started": "2023-03-21T18:10:40.975260Z"
    },
    "papermill": {
     "duration": 0.823292,
     "end_time": "2023-01-15T14:23:59.971777",
     "exception": false,
     "start_time": "2023-01-15T14:23:59.148485",
     "status": "completed"
    },
    "tags": []
   },
   "outputs": [
    {
     "data": {
      "text/html": [
       "<div>\n",
       "<style scoped>\n",
       "    .dataframe tbody tr th:only-of-type {\n",
       "        vertical-align: middle;\n",
       "    }\n",
       "\n",
       "    .dataframe tbody tr th {\n",
       "        vertical-align: top;\n",
       "    }\n",
       "\n",
       "    .dataframe thead th {\n",
       "        text-align: right;\n",
       "    }\n",
       "</style>\n",
       "<table border=\"1\" class=\"dataframe\">\n",
       "  <thead>\n",
       "    <tr style=\"text-align: right;\">\n",
       "      <th></th>\n",
       "      <th>image_name</th>\n",
       "      <th>tags</th>\n",
       "      <th>haze</th>\n",
       "      <th>primary</th>\n",
       "      <th>agriculture</th>\n",
       "      <th>clear</th>\n",
       "      <th>water</th>\n",
       "      <th>habitation</th>\n",
       "      <th>road</th>\n",
       "      <th>cultivation</th>\n",
       "      <th>slash_burn</th>\n",
       "      <th>cloudy</th>\n",
       "      <th>partly_cloudy</th>\n",
       "      <th>conventional_mine</th>\n",
       "      <th>bare_ground</th>\n",
       "      <th>artisinal_mine</th>\n",
       "      <th>blooming</th>\n",
       "      <th>selective_logging</th>\n",
       "      <th>blow_down</th>\n",
       "    </tr>\n",
       "  </thead>\n",
       "  <tbody>\n",
       "    <tr>\n",
       "      <th>0</th>\n",
       "      <td>train_0</td>\n",
       "      <td>haze primary</td>\n",
       "      <td>1</td>\n",
       "      <td>1</td>\n",
       "      <td>0</td>\n",
       "      <td>0</td>\n",
       "      <td>0</td>\n",
       "      <td>0</td>\n",
       "      <td>0</td>\n",
       "      <td>0</td>\n",
       "      <td>0</td>\n",
       "      <td>0</td>\n",
       "      <td>0</td>\n",
       "      <td>0</td>\n",
       "      <td>0</td>\n",
       "      <td>0</td>\n",
       "      <td>0</td>\n",
       "      <td>0</td>\n",
       "      <td>0</td>\n",
       "    </tr>\n",
       "    <tr>\n",
       "      <th>1</th>\n",
       "      <td>train_1</td>\n",
       "      <td>agriculture clear primary water</td>\n",
       "      <td>0</td>\n",
       "      <td>1</td>\n",
       "      <td>1</td>\n",
       "      <td>1</td>\n",
       "      <td>1</td>\n",
       "      <td>0</td>\n",
       "      <td>0</td>\n",
       "      <td>0</td>\n",
       "      <td>0</td>\n",
       "      <td>0</td>\n",
       "      <td>0</td>\n",
       "      <td>0</td>\n",
       "      <td>0</td>\n",
       "      <td>0</td>\n",
       "      <td>0</td>\n",
       "      <td>0</td>\n",
       "      <td>0</td>\n",
       "    </tr>\n",
       "    <tr>\n",
       "      <th>2</th>\n",
       "      <td>train_2</td>\n",
       "      <td>clear primary</td>\n",
       "      <td>0</td>\n",
       "      <td>1</td>\n",
       "      <td>0</td>\n",
       "      <td>1</td>\n",
       "      <td>0</td>\n",
       "      <td>0</td>\n",
       "      <td>0</td>\n",
       "      <td>0</td>\n",
       "      <td>0</td>\n",
       "      <td>0</td>\n",
       "      <td>0</td>\n",
       "      <td>0</td>\n",
       "      <td>0</td>\n",
       "      <td>0</td>\n",
       "      <td>0</td>\n",
       "      <td>0</td>\n",
       "      <td>0</td>\n",
       "    </tr>\n",
       "    <tr>\n",
       "      <th>3</th>\n",
       "      <td>train_3</td>\n",
       "      <td>clear primary</td>\n",
       "      <td>0</td>\n",
       "      <td>1</td>\n",
       "      <td>0</td>\n",
       "      <td>1</td>\n",
       "      <td>0</td>\n",
       "      <td>0</td>\n",
       "      <td>0</td>\n",
       "      <td>0</td>\n",
       "      <td>0</td>\n",
       "      <td>0</td>\n",
       "      <td>0</td>\n",
       "      <td>0</td>\n",
       "      <td>0</td>\n",
       "      <td>0</td>\n",
       "      <td>0</td>\n",
       "      <td>0</td>\n",
       "      <td>0</td>\n",
       "    </tr>\n",
       "    <tr>\n",
       "      <th>4</th>\n",
       "      <td>train_4</td>\n",
       "      <td>agriculture clear habitation primary road</td>\n",
       "      <td>0</td>\n",
       "      <td>1</td>\n",
       "      <td>1</td>\n",
       "      <td>1</td>\n",
       "      <td>0</td>\n",
       "      <td>1</td>\n",
       "      <td>1</td>\n",
       "      <td>0</td>\n",
       "      <td>0</td>\n",
       "      <td>0</td>\n",
       "      <td>0</td>\n",
       "      <td>0</td>\n",
       "      <td>0</td>\n",
       "      <td>0</td>\n",
       "      <td>0</td>\n",
       "      <td>0</td>\n",
       "      <td>0</td>\n",
       "    </tr>\n",
       "  </tbody>\n",
       "</table>\n",
       "</div>"
      ],
      "text/plain": [
       "  image_name                                       tags  haze  primary  \\\n",
       "0    train_0                               haze primary     1        1   \n",
       "1    train_1            agriculture clear primary water     0        1   \n",
       "2    train_2                              clear primary     0        1   \n",
       "3    train_3                              clear primary     0        1   \n",
       "4    train_4  agriculture clear habitation primary road     0        1   \n",
       "\n",
       "   agriculture  clear  water  habitation  road  cultivation  slash_burn  \\\n",
       "0            0      0      0           0     0            0           0   \n",
       "1            1      1      1           0     0            0           0   \n",
       "2            0      1      0           0     0            0           0   \n",
       "3            0      1      0           0     0            0           0   \n",
       "4            1      1      0           1     1            0           0   \n",
       "\n",
       "   cloudy  partly_cloudy  conventional_mine  bare_ground  artisinal_mine  \\\n",
       "0       0              0                  0            0               0   \n",
       "1       0              0                  0            0               0   \n",
       "2       0              0                  0            0               0   \n",
       "3       0              0                  0            0               0   \n",
       "4       0              0                  0            0               0   \n",
       "\n",
       "   blooming  selective_logging  blow_down  \n",
       "0         0                  0          0  \n",
       "1         0                  0          0  \n",
       "2         0                  0          0  \n",
       "3         0                  0          0  \n",
       "4         0                  0          0  "
      ]
     },
     "execution_count": 39,
     "metadata": {},
     "output_type": "execute_result"
    }
   ],
   "source": [
    "for unique_tag in unique_tags:\n",
    "    train_data[unique_tag]=train_data[\"tags\"].apply(lambda x: 1 if unique_tag in x.split() else 0)\n",
    "train_data.head()"
   ]
  },
  {
   "cell_type": "code",
   "execution_count": 40,
   "id": "25354969",
   "metadata": {
    "execution": {
     "iopub.execute_input": "2023-03-21T18:10:42.630642Z",
     "iopub.status.busy": "2023-03-21T18:10:42.629927Z",
     "iopub.status.idle": "2023-03-21T18:10:42.635580Z",
     "shell.execute_reply": "2023-03-21T18:10:42.634506Z",
     "shell.execute_reply.started": "2023-03-21T18:10:42.630603Z"
    },
    "papermill": {
     "duration": 0.020337,
     "end_time": "2023-01-15T14:24:00.001482",
     "exception": false,
     "start_time": "2023-01-15T14:23:59.981145",
     "status": "completed"
    },
    "tags": []
   },
   "outputs": [],
   "source": [
    "#select relevant columns to feed into the generator\n",
    "\n",
    "rel_cols = train_data.columns.to_list()[2:] \n",
    "train_dir = os.path.join(path,'train-jpg')"
   ]
  },
  {
   "cell_type": "markdown",
   "id": "2bb3d1dd",
   "metadata": {
    "papermill": {
     "duration": 0.00921,
     "end_time": "2023-01-15T14:24:00.019973",
     "exception": false,
     "start_time": "2023-01-15T14:24:00.010763",
     "status": "completed"
    },
    "tags": []
   },
   "source": [
    "## Renaming the `values in the image_name` column  to use `ImageDataGenerator`"
   ]
  },
  {
   "cell_type": "code",
   "execution_count": 41,
   "id": "a865317c",
   "metadata": {
    "execution": {
     "iopub.execute_input": "2023-03-21T18:10:48.968700Z",
     "iopub.status.busy": "2023-03-21T18:10:48.967989Z",
     "iopub.status.idle": "2023-03-21T18:10:48.996877Z",
     "shell.execute_reply": "2023-03-21T18:10:48.995876Z",
     "shell.execute_reply.started": "2023-03-21T18:10:48.968662Z"
    },
    "papermill": {
     "duration": 0.048844,
     "end_time": "2023-01-15T14:24:00.077959",
     "exception": false,
     "start_time": "2023-01-15T14:24:00.029115",
     "status": "completed"
    },
    "tags": []
   },
   "outputs": [
    {
     "data": {
      "text/html": [
       "<div>\n",
       "<style scoped>\n",
       "    .dataframe tbody tr th:only-of-type {\n",
       "        vertical-align: middle;\n",
       "    }\n",
       "\n",
       "    .dataframe tbody tr th {\n",
       "        vertical-align: top;\n",
       "    }\n",
       "\n",
       "    .dataframe thead th {\n",
       "        text-align: right;\n",
       "    }\n",
       "</style>\n",
       "<table border=\"1\" class=\"dataframe\">\n",
       "  <thead>\n",
       "    <tr style=\"text-align: right;\">\n",
       "      <th></th>\n",
       "      <th>image_name</th>\n",
       "      <th>tags</th>\n",
       "      <th>haze</th>\n",
       "      <th>primary</th>\n",
       "      <th>agriculture</th>\n",
       "      <th>clear</th>\n",
       "      <th>water</th>\n",
       "      <th>habitation</th>\n",
       "      <th>road</th>\n",
       "      <th>cultivation</th>\n",
       "      <th>slash_burn</th>\n",
       "      <th>cloudy</th>\n",
       "      <th>partly_cloudy</th>\n",
       "      <th>conventional_mine</th>\n",
       "      <th>bare_ground</th>\n",
       "      <th>artisinal_mine</th>\n",
       "      <th>blooming</th>\n",
       "      <th>selective_logging</th>\n",
       "      <th>blow_down</th>\n",
       "    </tr>\n",
       "  </thead>\n",
       "  <tbody>\n",
       "    <tr>\n",
       "      <th>0</th>\n",
       "      <td>train_0.jpg</td>\n",
       "      <td>haze primary</td>\n",
       "      <td>1</td>\n",
       "      <td>1</td>\n",
       "      <td>0</td>\n",
       "      <td>0</td>\n",
       "      <td>0</td>\n",
       "      <td>0</td>\n",
       "      <td>0</td>\n",
       "      <td>0</td>\n",
       "      <td>0</td>\n",
       "      <td>0</td>\n",
       "      <td>0</td>\n",
       "      <td>0</td>\n",
       "      <td>0</td>\n",
       "      <td>0</td>\n",
       "      <td>0</td>\n",
       "      <td>0</td>\n",
       "      <td>0</td>\n",
       "    </tr>\n",
       "    <tr>\n",
       "      <th>1</th>\n",
       "      <td>train_1.jpg</td>\n",
       "      <td>agriculture clear primary water</td>\n",
       "      <td>0</td>\n",
       "      <td>1</td>\n",
       "      <td>1</td>\n",
       "      <td>1</td>\n",
       "      <td>1</td>\n",
       "      <td>0</td>\n",
       "      <td>0</td>\n",
       "      <td>0</td>\n",
       "      <td>0</td>\n",
       "      <td>0</td>\n",
       "      <td>0</td>\n",
       "      <td>0</td>\n",
       "      <td>0</td>\n",
       "      <td>0</td>\n",
       "      <td>0</td>\n",
       "      <td>0</td>\n",
       "      <td>0</td>\n",
       "    </tr>\n",
       "    <tr>\n",
       "      <th>2</th>\n",
       "      <td>train_2.jpg</td>\n",
       "      <td>clear primary</td>\n",
       "      <td>0</td>\n",
       "      <td>1</td>\n",
       "      <td>0</td>\n",
       "      <td>1</td>\n",
       "      <td>0</td>\n",
       "      <td>0</td>\n",
       "      <td>0</td>\n",
       "      <td>0</td>\n",
       "      <td>0</td>\n",
       "      <td>0</td>\n",
       "      <td>0</td>\n",
       "      <td>0</td>\n",
       "      <td>0</td>\n",
       "      <td>0</td>\n",
       "      <td>0</td>\n",
       "      <td>0</td>\n",
       "      <td>0</td>\n",
       "    </tr>\n",
       "    <tr>\n",
       "      <th>3</th>\n",
       "      <td>train_3.jpg</td>\n",
       "      <td>clear primary</td>\n",
       "      <td>0</td>\n",
       "      <td>1</td>\n",
       "      <td>0</td>\n",
       "      <td>1</td>\n",
       "      <td>0</td>\n",
       "      <td>0</td>\n",
       "      <td>0</td>\n",
       "      <td>0</td>\n",
       "      <td>0</td>\n",
       "      <td>0</td>\n",
       "      <td>0</td>\n",
       "      <td>0</td>\n",
       "      <td>0</td>\n",
       "      <td>0</td>\n",
       "      <td>0</td>\n",
       "      <td>0</td>\n",
       "      <td>0</td>\n",
       "    </tr>\n",
       "    <tr>\n",
       "      <th>4</th>\n",
       "      <td>train_4.jpg</td>\n",
       "      <td>agriculture clear habitation primary road</td>\n",
       "      <td>0</td>\n",
       "      <td>1</td>\n",
       "      <td>1</td>\n",
       "      <td>1</td>\n",
       "      <td>0</td>\n",
       "      <td>1</td>\n",
       "      <td>1</td>\n",
       "      <td>0</td>\n",
       "      <td>0</td>\n",
       "      <td>0</td>\n",
       "      <td>0</td>\n",
       "      <td>0</td>\n",
       "      <td>0</td>\n",
       "      <td>0</td>\n",
       "      <td>0</td>\n",
       "      <td>0</td>\n",
       "      <td>0</td>\n",
       "    </tr>\n",
       "  </tbody>\n",
       "</table>\n",
       "</div>"
      ],
      "text/plain": [
       "    image_name                                       tags  haze  primary  \\\n",
       "0  train_0.jpg                               haze primary     1        1   \n",
       "1  train_1.jpg            agriculture clear primary water     0        1   \n",
       "2  train_2.jpg                              clear primary     0        1   \n",
       "3  train_3.jpg                              clear primary     0        1   \n",
       "4  train_4.jpg  agriculture clear habitation primary road     0        1   \n",
       "\n",
       "   agriculture  clear  water  habitation  road  cultivation  slash_burn  \\\n",
       "0            0      0      0           0     0            0           0   \n",
       "1            1      1      1           0     0            0           0   \n",
       "2            0      1      0           0     0            0           0   \n",
       "3            0      1      0           0     0            0           0   \n",
       "4            1      1      0           1     1            0           0   \n",
       "\n",
       "   cloudy  partly_cloudy  conventional_mine  bare_ground  artisinal_mine  \\\n",
       "0       0              0                  0            0               0   \n",
       "1       0              0                  0            0               0   \n",
       "2       0              0                  0            0               0   \n",
       "3       0              0                  0            0               0   \n",
       "4       0              0                  0            0               0   \n",
       "\n",
       "   blooming  selective_logging  blow_down  \n",
       "0         0                  0          0  \n",
       "1         0                  0          0  \n",
       "2         0                  0          0  \n",
       "3         0                  0          0  \n",
       "4         0                  0          0  "
      ]
     },
     "execution_count": 41,
     "metadata": {},
     "output_type": "execute_result"
    }
   ],
   "source": [
    "train_data['image_name'] = train_data['image_name'].apply(lambda x: x+\".jpg\")\n",
    "train_data.head()"
   ]
  },
  {
   "cell_type": "code",
   "execution_count": 42,
   "id": "a3a33c9a",
   "metadata": {
    "execution": {
     "iopub.execute_input": "2023-03-21T18:10:50.238060Z",
     "iopub.status.busy": "2023-03-21T18:10:50.237367Z",
     "iopub.status.idle": "2023-03-21T18:11:07.658632Z",
     "shell.execute_reply": "2023-03-21T18:11:07.657639Z",
     "shell.execute_reply.started": "2023-03-21T18:10:50.238003Z"
    },
    "papermill": {
     "duration": 147.001904,
     "end_time": "2023-01-15T14:26:27.089218",
     "exception": false,
     "start_time": "2023-01-15T14:24:00.087314",
     "status": "completed"
    },
    "tags": []
   },
   "outputs": [
    {
     "name": "stdout",
     "output_type": "stream",
     "text": [
      "Found 32384 validated image filenames.\n",
      "Found 8095 validated image filenames.\n"
     ]
    }
   ],
   "source": [
    "#splitting using the 80:20 rule \n",
    "\n",
    "train_generator = ImageDataGenerator(rescale = 1./255, validation_split = 0.2)\n",
    "\n",
    "# train_set \n",
    "train_gen = train_generator.flow_from_dataframe(dataframe=train_data,\n",
    "                                              directory = train_dir,  \n",
    "                                              x_col=\"image_name\", \n",
    "                                              y_col=rel_cols, \n",
    "                                              subset=\"training\", \n",
    "                                              batch_size=128,\n",
    "                                              seed=42, \n",
    "                                              shuffle = True, \n",
    "                                              class_mode=\"raw\", \n",
    "                                              target_size=(128,128))\n",
    "\n",
    "\n",
    "# val_set \n",
    "val_gen = train_generator.flow_from_dataframe(dataframe=train_data,\n",
    "                                            directory = train_dir,  \n",
    "                                            x_col=\"image_name\", \n",
    "                                            y_col=rel_cols, \n",
    "                                            subset=\"validation\", \n",
    "                                            batch_size=128,\n",
    "                                            seed=42, \n",
    "                                            shuffle = True, \n",
    "                                            class_mode=\"raw\", \n",
    "                                            target_size=(128,128))"
   ]
  },
  {
   "cell_type": "code",
   "execution_count": 43,
   "id": "417f82bf",
   "metadata": {
    "execution": {
     "iopub.execute_input": "2023-03-21T18:11:07.661094Z",
     "iopub.status.busy": "2023-03-21T18:11:07.660715Z",
     "iopub.status.idle": "2023-03-21T18:11:07.866183Z",
     "shell.execute_reply": "2023-03-21T18:11:07.864976Z",
     "shell.execute_reply.started": "2023-03-21T18:11:07.661038Z"
    },
    "papermill": {
     "duration": 0.21777,
     "end_time": "2023-01-15T14:26:27.316278",
     "exception": false,
     "start_time": "2023-01-15T14:26:27.098508",
     "status": "completed"
    },
    "tags": []
   },
   "outputs": [
    {
     "data": {
      "text/plain": [
       "126"
      ]
     },
     "execution_count": 43,
     "metadata": {},
     "output_type": "execute_result"
    }
   ],
   "source": [
    "gc.collect()"
   ]
  },
  {
   "cell_type": "code",
   "execution_count": 44,
   "id": "c69951c2",
   "metadata": {
    "execution": {
     "iopub.execute_input": "2023-03-21T18:11:38.501805Z",
     "iopub.status.busy": "2023-03-21T18:11:38.501112Z",
     "iopub.status.idle": "2023-03-21T18:11:38.662376Z",
     "shell.execute_reply": "2023-03-21T18:11:38.661372Z",
     "shell.execute_reply.started": "2023-03-21T18:11:38.501766Z"
    },
    "papermill": {
     "duration": 3.447181,
     "end_time": "2023-01-15T14:26:30.773294",
     "exception": false,
     "start_time": "2023-01-15T14:26:27.326113",
     "status": "completed"
    },
    "tags": []
   },
   "outputs": [],
   "source": [
    "#train sequential model\n",
    "\n",
    "model = Sequential()\n",
    "#input layer\n",
    "model.add(BatchNormalization(input_shape=(128, 128, 3)))\n",
    "model.add(Conv2D(32, kernel_size=(3, 3), padding='same', activation='relu'))\n",
    "model.add(Conv2D(32, kernel_size=(3, 3), activation='relu'))\n",
    "model.add(MaxPooling2D(pool_size=(2, 2)))\n",
    "model.add(Dropout(0.2))\n",
    "\n",
    "#Hidden layers\n",
    "model.add(Conv2D(64, kernel_size=(3, 3), padding='same', activation='relu'))\n",
    "model.add(Conv2D(64, kernel_size=(3, 3), activation='relu'))\n",
    "model.add(MaxPooling2D(pool_size=(2, 2)))\n",
    "model.add(Dropout(0.2))\n",
    "\n",
    "model.add(Conv2D(128, kernel_size=(3, 3), padding='same', activation='relu'))\n",
    "model.add(Conv2D(128, kernel_size=(3, 3), activation='relu'))\n",
    "model.add(MaxPooling2D(pool_size=(2, 2)))\n",
    "model.add(Dropout(0.2))\n",
    "\n",
    "model.add(Conv2D(256, kernel_size=(3, 3), padding='same', activation='relu'))\n",
    "model.add(Conv2D(256, kernel_size=(3, 3), activation='relu'))\n",
    "model.add(MaxPooling2D(pool_size=(2, 2)))\n",
    "model.add(Dropout(0.2))\n",
    "\n",
    "model.add(Flatten())\n",
    "model.add(Dense(512, activation='relu'))\n",
    "model.add(Dropout(0.5))\n",
    "\n",
    "#Output layer\n",
    "model.add(Dense(17, activation='sigmoid'))"
   ]
  },
  {
   "cell_type": "code",
   "execution_count": 11,
   "id": "0ba9e7b3",
   "metadata": {
    "execution": {
     "iopub.execute_input": "2023-03-21T17:15:45.092474Z",
     "iopub.status.busy": "2023-03-21T17:15:45.091831Z",
     "iopub.status.idle": "2023-03-21T17:15:45.097945Z",
     "shell.execute_reply": "2023-03-21T17:15:45.096710Z",
     "shell.execute_reply.started": "2023-03-21T17:15:45.092434Z"
    },
    "papermill": {
     "duration": 0.022452,
     "end_time": "2023-01-15T14:26:30.806011",
     "exception": false,
     "start_time": "2023-01-15T14:26:30.783559",
     "status": "completed"
    },
    "tags": []
   },
   "outputs": [],
   "source": [
    "train_steps = train_gen.n // train_gen.batch_size\n",
    "val_steps = val_gen.n // train_gen.batch_size"
   ]
  },
  {
   "cell_type": "code",
   "execution_count": 12,
   "id": "354c46a5",
   "metadata": {
    "execution": {
     "iopub.execute_input": "2023-03-21T17:15:45.099879Z",
     "iopub.status.busy": "2023-03-21T17:15:45.099454Z",
     "iopub.status.idle": "2023-03-21T17:15:45.112736Z",
     "shell.execute_reply": "2023-03-21T17:15:45.111546Z",
     "shell.execute_reply.started": "2023-03-21T17:15:45.099843Z"
    },
    "papermill": {
     "duration": 0.02757,
     "end_time": "2023-01-15T14:26:30.843806",
     "exception": false,
     "start_time": "2023-01-15T14:26:30.816236",
     "status": "completed"
    },
    "tags": []
   },
   "outputs": [],
   "source": [
    "def fbeta_score(y_true, y_pred, beta = 2, epsilon = 1e-4):\n",
    "    beta_squared = beta**2\n",
    "    \n",
    "    y_true = tf.cast(y_true, tf.float32)\n",
    "    y_pred = tf.cast(tf.greater(tf.cast(y_pred, tf.float32), tf.constant(0.5)), tf.float32)\n",
    "    \n",
    "    tp = tf.reduce_sum(y_true * y_pred, axis = 1)\n",
    "    fp = tf.reduce_sum(y_pred, axis = 1) - tp\n",
    "    fn = tf.reduce_sum(y_true, axis = 1) - tp\n",
    "    \n",
    "    precision = tp/(tp +fp +epsilon)\n",
    "    recall = tp/(tp + fn + epsilon)\n",
    "    \n",
    "    return (1 + beta_squared) * precision * recall / (beta_squared * precision + recall + epsilon)\n",
    "def accuracy(y_true, y_pred, epsilon = 1e-4):\n",
    "    y_true = tf.cast(y_true, tf.float32)\n",
    "    y_pred = tf.cast(tf.greater(tf.cast(y_pred, tf.float32), tf.constant(0.5)), tf.float32)\n",
    "    \n",
    "    tp = tf.reduce_sum(y_true * y_pred, axis = 1)\n",
    "    fp = tf.reduce_sum(y_pred, axis = 1) - tp\n",
    "    fn = tf.reduce_sum(y_true, axis = 1) - tp\n",
    "    \n",
    "    y_true = tf.cast(y_true, tf.bool)\n",
    "    y_pred = tf.cast(y_pred, tf.bool)\n",
    "        \n",
    "    tn = tf.reduce_sum(tf.cast(tf.logical_not(y_true), tf.float32) * tf.cast(tf.logical_not(y_pred), tf.float32),                 axis = 1)\n",
    "    return (tp + tn)/(tp + tn + fp + fn + epsilon)"
   ]
  },
  {
   "cell_type": "code",
   "execution_count": 13,
   "id": "f99eaefe",
   "metadata": {
    "execution": {
     "iopub.execute_input": "2023-03-21T17:15:45.114672Z",
     "iopub.status.busy": "2023-03-21T17:15:45.114302Z",
     "iopub.status.idle": "2023-03-21T17:15:45.140361Z",
     "shell.execute_reply": "2023-03-21T17:15:45.139465Z",
     "shell.execute_reply.started": "2023-03-21T17:15:45.114636Z"
    },
    "papermill": {
     "duration": 0.033969,
     "end_time": "2023-01-15T14:26:30.887575",
     "exception": false,
     "start_time": "2023-01-15T14:26:30.853606",
     "status": "completed"
    },
    "tags": []
   },
   "outputs": [],
   "source": [
    "model.compile(loss='binary_crossentropy',\n",
    "              optimizer='adam',\n",
    "              metrics=[fbeta_score,accuracy])\n",
    "\n",
    "# Save the callback\n",
    "callback = EarlyStopping(\n",
    "    monitor=\"val_loss\", \n",
    "    patience=2,\n",
    "    verbose=0,\n",
    "    baseline=None,\n",
    "    restore_best_weights=True,\n",
    ")"
   ]
  },
  {
   "cell_type": "code",
   "execution_count": 14,
   "id": "55bdb3be",
   "metadata": {
    "execution": {
     "iopub.execute_input": "2023-03-21T17:15:45.142255Z",
     "iopub.status.busy": "2023-03-21T17:15:45.141879Z",
     "iopub.status.idle": "2023-03-21T17:15:45.151674Z",
     "shell.execute_reply": "2023-03-21T17:15:45.150727Z",
     "shell.execute_reply.started": "2023-03-21T17:15:45.142220Z"
    },
    "papermill": {
     "duration": 0.02253,
     "end_time": "2023-01-15T14:26:30.919769",
     "exception": false,
     "start_time": "2023-01-15T14:26:30.897239",
     "status": "completed"
    },
    "tags": []
   },
   "outputs": [
    {
     "data": {
      "text/plain": [
       "[PhysicalDevice(name='/physical_device:CPU:0', device_type='CPU'),\n",
       " PhysicalDevice(name='/physical_device:GPU:0', device_type='GPU'),\n",
       " PhysicalDevice(name='/physical_device:GPU:1', device_type='GPU')]"
      ]
     },
     "execution_count": 14,
     "metadata": {},
     "output_type": "execute_result"
    }
   ],
   "source": [
    "tf.config.list_physical_devices()"
   ]
  },
  {
   "cell_type": "code",
   "execution_count": 15,
   "id": "05fb4a5e",
   "metadata": {
    "execution": {
     "iopub.execute_input": "2023-03-21T17:15:45.153632Z",
     "iopub.status.busy": "2023-03-21T17:15:45.153137Z",
     "iopub.status.idle": "2023-03-21T17:46:53.278155Z",
     "shell.execute_reply": "2023-03-21T17:46:53.277126Z",
     "shell.execute_reply.started": "2023-03-21T17:15:45.153587Z"
    },
    "papermill": {
     "duration": 2002.413961,
     "end_time": "2023-01-15T14:59:53.343389",
     "exception": false,
     "start_time": "2023-01-15T14:26:30.929428",
     "status": "completed"
    },
    "tags": []
   },
   "outputs": [
    {
     "name": "stdout",
     "output_type": "stream",
     "text": [
      "Epoch 1/20\n"
     ]
    },
    {
     "name": "stderr",
     "output_type": "stream",
     "text": [
      "2023-03-21 17:15:48.191502: E tensorflow/core/grappler/optimizers/meta_optimizer.cc:954] layout failed: INVALID_ARGUMENT: Size of values 0 does not match size of permutation 4 @ fanin shape insequential/dropout/dropout/SelectV2-2-TransposeNHWCToNCHW-LayoutOptimizer\n"
     ]
    },
    {
     "name": "stdout",
     "output_type": "stream",
     "text": [
      "253/253 [==============================] - 294s 1s/step - loss: 0.2335 - fbeta_score: 0.6822 - accuracy: 0.9114 - val_loss: 0.2150 - val_fbeta_score: 0.6970 - val_accuracy: 0.9161\n",
      "Epoch 2/20\n",
      "253/253 [==============================] - 120s 472ms/step - loss: 0.1704 - fbeta_score: 0.7781 - accuracy: 0.9336 - val_loss: 0.1525 - val_fbeta_score: 0.7913 - val_accuracy: 0.9393\n",
      "Epoch 3/20\n",
      "253/253 [==============================] - 117s 461ms/step - loss: 0.1501 - fbeta_score: 0.8052 - accuracy: 0.9412 - val_loss: 0.1374 - val_fbeta_score: 0.8220 - val_accuracy: 0.9458\n",
      "Epoch 4/20\n",
      "253/253 [==============================] - 137s 540ms/step - loss: 0.1389 - fbeta_score: 0.8225 - accuracy: 0.9451 - val_loss: 0.1288 - val_fbeta_score: 0.8298 - val_accuracy: 0.9489\n",
      "Epoch 5/20\n",
      "253/253 [==============================] - 118s 464ms/step - loss: 0.1336 - fbeta_score: 0.8317 - accuracy: 0.9472 - val_loss: 0.1216 - val_fbeta_score: 0.8488 - val_accuracy: 0.9530\n",
      "Epoch 6/20\n",
      "253/253 [==============================] - 139s 549ms/step - loss: 0.1273 - fbeta_score: 0.8441 - accuracy: 0.9499 - val_loss: 0.1183 - val_fbeta_score: 0.8532 - val_accuracy: 0.9535\n",
      "Epoch 7/20\n",
      "253/253 [==============================] - 141s 556ms/step - loss: 0.1222 - fbeta_score: 0.8522 - accuracy: 0.9522 - val_loss: 0.1162 - val_fbeta_score: 0.8551 - val_accuracy: 0.9543\n",
      "Epoch 8/20\n",
      "253/253 [==============================] - 137s 542ms/step - loss: 0.1176 - fbeta_score: 0.8570 - accuracy: 0.9536 - val_loss: 0.1115 - val_fbeta_score: 0.8657 - val_accuracy: 0.9567\n",
      "Epoch 9/20\n",
      "253/253 [==============================] - 137s 540ms/step - loss: 0.1137 - fbeta_score: 0.8650 - accuracy: 0.9555 - val_loss: 0.1108 - val_fbeta_score: 0.8682 - val_accuracy: 0.9569\n",
      "Epoch 10/20\n",
      "253/253 [==============================] - 137s 542ms/step - loss: 0.1104 - fbeta_score: 0.8688 - accuracy: 0.9568 - val_loss: 0.1107 - val_fbeta_score: 0.8618 - val_accuracy: 0.9567\n",
      "Epoch 11/20\n",
      "253/253 [==============================] - 137s 541ms/step - loss: 0.1068 - fbeta_score: 0.8714 - accuracy: 0.9576 - val_loss: 0.1096 - val_fbeta_score: 0.8687 - val_accuracy: 0.9576\n",
      "Epoch 12/20\n",
      "253/253 [==============================] - 137s 541ms/step - loss: 0.1037 - fbeta_score: 0.8768 - accuracy: 0.9593 - val_loss: 0.1099 - val_fbeta_score: 0.8770 - val_accuracy: 0.9574\n",
      "Epoch 13/20\n",
      "253/253 [==============================] - 117s 461ms/step - loss: 0.1001 - fbeta_score: 0.8820 - accuracy: 0.9606 - val_loss: 0.1129 - val_fbeta_score: 0.8684 - val_accuracy: 0.9573\n"
     ]
    }
   ],
   "source": [
    "history = model.fit(x=train_gen,\n",
    "                    steps_per_epoch=train_steps,\n",
    "                    validation_data=val_gen,\n",
    "                    validation_steps=val_steps,\n",
    "                    epochs=20,\n",
    "                    callbacks=[callback]) "
   ]
  },
  {
   "cell_type": "code",
   "execution_count": 16,
   "id": "cee43441",
   "metadata": {
    "execution": {
     "iopub.execute_input": "2023-03-21T17:46:53.280198Z",
     "iopub.status.busy": "2023-03-21T17:46:53.279520Z",
     "iopub.status.idle": "2023-03-21T17:46:53.806889Z",
     "shell.execute_reply": "2023-03-21T17:46:53.805839Z",
     "shell.execute_reply.started": "2023-03-21T17:46:53.280156Z"
    },
    "papermill": {
     "duration": 0.934934,
     "end_time": "2023-01-15T14:59:54.492305",
     "exception": false,
     "start_time": "2023-01-15T14:59:53.557371",
     "status": "completed"
    },
    "tags": []
   },
   "outputs": [
    {
     "data": {
      "image/png": "[encoded data removed]",
      "text/plain": [
       "<Figure size 1800x800 with 3 Axes>"
      ]
     },
     "metadata": {},
     "output_type": "display_data"
    }
   ],
   "source": [
    "hist_dict = history.history\n",
    "loss = hist_dict['loss']\n",
    "val_loss=hist_dict[\"val_loss\"]\n",
    "\n",
    "fbeta = hist_dict['fbeta_score']\n",
    "val_fbeta = hist_dict['val_fbeta_score']\n",
    "\n",
    "acc = hist_dict['accuracy']\n",
    "val_acc = hist_dict['val_accuracy']\n",
    "\n",
    "epochs = range(1,1+len(acc))\n",
    "fig,(ax1,ax2,ax3) = plt.subplots(ncols=3,figsize=(18,8))\n",
    "ax1.plot(epochs,loss, label='Loss', color = 'red')\n",
    "ax1.plot(epochs,val_loss,label='Validation Loss', color = 'green')\n",
    "ax1.set_title('Loss vs Validation Loss')\n",
    "ax1.set_ylabel('Loss')\n",
    "\n",
    "\n",
    "ax2.plot(epochs,fbeta,label='FBeta', color = 'red')\n",
    "ax2.plot(epochs,val_fbeta,label='Validation FBeta', color = 'green')\n",
    "ax2.set_title('FBeta vs Validation FBeta')\n",
    "ax2.set_ylabel('Fbeta Score')\n",
    "\n",
    "ax3.plot(epochs,acc,label='Accuracy', color = 'red')\n",
    "ax3.plot(epochs,val_acc,label='Validation Accuracy', color = 'green')\n",
    "ax3.set_title('Accuracy vs Validation Accuracy')\n",
    "ax3.set_ylabel('Accuracy')\n",
    "\n",
    "for x in (ax1,ax2,ax3):\n",
    "    x.set_xlabel('Epochs')\n",
    "plt.show()"
   ]
  },
  {
   "cell_type": "code",
   "execution_count": 17,
   "id": "aa7a7f1d",
   "metadata": {
    "execution": {
     "iopub.execute_input": "2023-03-21T17:46:53.808376Z",
     "iopub.status.busy": "2023-03-21T17:46:53.808006Z",
     "iopub.status.idle": "2023-03-21T17:46:53.918167Z",
     "shell.execute_reply": "2023-03-21T17:46:53.917002Z",
     "shell.execute_reply.started": "2023-03-21T17:46:53.808337Z"
    },
    "papermill": {
     "duration": 0.376736,
     "end_time": "2023-01-15T14:59:55.087847",
     "exception": false,
     "start_time": "2023-01-15T14:59:54.711111",
     "status": "completed"
    },
    "tags": []
   },
   "outputs": [
    {
     "data": {
      "text/html": [
       "<div>\n",
       "<style scoped>\n",
       "    .dataframe tbody tr th:only-of-type {\n",
       "        vertical-align: middle;\n",
       "    }\n",
       "\n",
       "    .dataframe tbody tr th {\n",
       "        vertical-align: top;\n",
       "    }\n",
       "\n",
       "    .dataframe thead th {\n",
       "        text-align: right;\n",
       "    }\n",
       "</style>\n",
       "<table border=\"1\" class=\"dataframe\">\n",
       "  <thead>\n",
       "    <tr style=\"text-align: right;\">\n",
       "      <th></th>\n",
       "      <th>image_name</th>\n",
       "    </tr>\n",
       "  </thead>\n",
       "  <tbody>\n",
       "    <tr>\n",
       "      <th>0</th>\n",
       "      <td>test_0.jpg</td>\n",
       "    </tr>\n",
       "    <tr>\n",
       "      <th>1</th>\n",
       "      <td>test_1.jpg</td>\n",
       "    </tr>\n",
       "    <tr>\n",
       "      <th>2</th>\n",
       "      <td>test_2.jpg</td>\n",
       "    </tr>\n",
       "    <tr>\n",
       "      <th>3</th>\n",
       "      <td>test_3.jpg</td>\n",
       "    </tr>\n",
       "    <tr>\n",
       "      <th>4</th>\n",
       "      <td>test_4.jpg</td>\n",
       "    </tr>\n",
       "  </tbody>\n",
       "</table>\n",
       "</div>"
      ],
      "text/plain": [
       "   image_name\n",
       "0  test_0.jpg\n",
       "1  test_1.jpg\n",
       "2  test_2.jpg\n",
       "3  test_3.jpg\n",
       "4  test_4.jpg"
      ]
     },
     "execution_count": 17,
     "metadata": {},
     "output_type": "execute_result"
    }
   ],
   "source": [
    "submission_df = pd.read_csv(os.path.join(path,'sample_submission.csv'))\n",
    "test_df = submission_df.iloc[:40669]['image_name'].reset_index().drop('index', axis =1)\n",
    "\n",
    "test_df['image_name'] = submission_df['image_name'].apply(lambda x: x+'.jpg')\n",
    "test_df.head()"
   ]
  },
  {
   "cell_type": "code",
   "execution_count": 18,
   "id": "4a878acf",
   "metadata": {
    "execution": {
     "iopub.execute_input": "2023-03-21T17:46:53.920593Z",
     "iopub.status.busy": "2023-03-21T17:46:53.920135Z",
     "iopub.status.idle": "2023-03-21T17:47:53.688555Z",
     "shell.execute_reply": "2023-03-21T17:47:53.687506Z",
     "shell.execute_reply.started": "2023-03-21T17:46:53.920549Z"
    },
    "papermill": {
     "duration": 135.805529,
     "end_time": "2023-01-15T15:02:11.299422",
     "exception": false,
     "start_time": "2023-01-15T14:59:55.493893",
     "status": "completed"
    },
    "tags": []
   },
   "outputs": [
    {
     "name": "stdout",
     "output_type": "stream",
     "text": [
      "Found 40669 validated image filenames.\n"
     ]
    }
   ],
   "source": [
    "test_generator = ImageDataGenerator(rescale = 1./255)\n",
    "\n",
    "test_gen = test_generator.flow_from_dataframe(dataframe=test_df,\n",
    "                                            directory = os.path.join(path,'test-jpg'),  \n",
    "                                            x_col=\"image_name\", \n",
    "                                            y_col=None, \n",
    "                                            batch_size=67,\n",
    "                                            shuffle=False,\n",
    "                                            class_mode=None, \n",
    "                                            target_size=(128,128))\n",
    "\n",
    "test_size = test_gen.n // test_gen.batch_size"
   ]
  },
  {
   "cell_type": "code",
   "execution_count": 19,
   "id": "6a4e56da",
   "metadata": {
    "execution": {
     "iopub.execute_input": "2023-03-21T17:47:53.690412Z",
     "iopub.status.busy": "2023-03-21T17:47:53.690032Z",
     "iopub.status.idle": "2023-03-21T17:52:19.925754Z",
     "shell.execute_reply": "2023-03-21T17:52:19.924595Z",
     "shell.execute_reply.started": "2023-03-21T17:47:53.690374Z"
    },
    "papermill": {
     "duration": 386.662763,
     "end_time": "2023-01-15T15:08:38.175267",
     "exception": false,
     "start_time": "2023-01-15T15:02:11.512504",
     "status": "completed"
    },
    "tags": []
   },
   "outputs": [
    {
     "name": "stdout",
     "output_type": "stream",
     "text": [
      "607/607 [==============================] - 265s 435ms/step\n"
     ]
    }
   ],
   "source": [
    "pred = model.predict(test_gen, steps=test_size, verbose=1)"
   ]
  },
  {
   "cell_type": "code",
   "execution_count": 20,
   "id": "1d3f38b1",
   "metadata": {
    "execution": {
     "iopub.execute_input": "2023-03-21T17:52:19.927986Z",
     "iopub.status.busy": "2023-03-21T17:52:19.927582Z",
     "iopub.status.idle": "2023-03-21T17:52:28.586111Z",
     "shell.execute_reply": "2023-03-21T17:52:28.585040Z",
     "shell.execute_reply.started": "2023-03-21T17:52:19.927946Z"
    },
    "papermill": {
     "duration": 11.876773,
     "end_time": "2023-01-15T15:08:50.396845",
     "exception": false,
     "start_time": "2023-01-15T15:08:38.520072",
     "status": "completed"
    },
    "tags": []
   },
   "outputs": [
    {
     "data": {
      "text/html": [
       "<div>\n",
       "<style scoped>\n",
       "    .dataframe tbody tr th:only-of-type {\n",
       "        vertical-align: middle;\n",
       "    }\n",
       "\n",
       "    .dataframe tbody tr th {\n",
       "        vertical-align: top;\n",
       "    }\n",
       "\n",
       "    .dataframe thead th {\n",
       "        text-align: right;\n",
       "    }\n",
       "</style>\n",
       "<table border=\"1\" class=\"dataframe\">\n",
       "  <thead>\n",
       "    <tr style=\"text-align: right;\">\n",
       "      <th></th>\n",
       "      <th>image_name</th>\n",
       "      <th>tags</th>\n",
       "    </tr>\n",
       "  </thead>\n",
       "  <tbody>\n",
       "    <tr>\n",
       "      <th>0</th>\n",
       "      <td>test_0.jpg</td>\n",
       "      <td>primary clear</td>\n",
       "    </tr>\n",
       "    <tr>\n",
       "      <th>1</th>\n",
       "      <td>test_1.jpg</td>\n",
       "      <td>primary clear</td>\n",
       "    </tr>\n",
       "    <tr>\n",
       "      <th>2</th>\n",
       "      <td>test_2.jpg</td>\n",
       "      <td>primary partly_cloudy</td>\n",
       "    </tr>\n",
       "    <tr>\n",
       "      <th>3</th>\n",
       "      <td>test_3.jpg</td>\n",
       "      <td>primary clear</td>\n",
       "    </tr>\n",
       "    <tr>\n",
       "      <th>4</th>\n",
       "      <td>test_4.jpg</td>\n",
       "      <td>primary cloudy partly_cloudy</td>\n",
       "    </tr>\n",
       "  </tbody>\n",
       "</table>\n",
       "</div>"
      ],
      "text/plain": [
       "   image_name                          tags\n",
       "0  test_0.jpg                 primary clear\n",
       "1  test_1.jpg                 primary clear\n",
       "2  test_2.jpg         primary partly_cloudy\n",
       "3  test_3.jpg                 primary clear\n",
       "4  test_4.jpg  primary cloudy partly_cloudy"
      ]
     },
     "execution_count": 20,
     "metadata": {},
     "output_type": "execute_result"
    }
   ],
   "source": [
    "test_names = test_gen.filenames \n",
    "        \n",
    "test_result = pd.DataFrame(pred)\n",
    "test_result = test_result.apply(lambda x: ' '.join(np.array(unique_tags)[x >= 0.2]), axis=1)\n",
    "\n",
    "test_result_df = pd.DataFrame({'image_name': test_names, 'tags': test_result})\n",
    "test_result_df.head()"
   ]
  },
  {
   "cell_type": "code",
   "execution_count": 21,
   "id": "a8df1746",
   "metadata": {
    "execution": {
     "iopub.execute_input": "2023-03-21T17:52:28.588315Z",
     "iopub.status.busy": "2023-03-21T17:52:28.587821Z",
     "iopub.status.idle": "2023-03-21T17:52:28.598269Z",
     "shell.execute_reply": "2023-03-21T17:52:28.597228Z",
     "shell.execute_reply.started": "2023-03-21T17:52:28.588272Z"
    },
    "papermill": {
     "duration": 0.26754,
     "end_time": "2023-01-15T15:08:50.917174",
     "exception": false,
     "start_time": "2023-01-15T15:08:50.649634",
     "status": "completed"
    },
    "tags": []
   },
   "outputs": [],
   "source": [
    "additional_df = submission_df.iloc[40669:]['image_name'].reset_index().drop('index', axis=1)"
   ]
  },
  {
   "cell_type": "code",
   "execution_count": 22,
   "id": "b21926e3",
   "metadata": {
    "execution": {
     "iopub.execute_input": "2023-03-21T17:52:28.600536Z",
     "iopub.status.busy": "2023-03-21T17:52:28.599579Z",
     "iopub.status.idle": "2023-03-21T17:52:28.623101Z",
     "shell.execute_reply": "2023-03-21T17:52:28.622057Z",
     "shell.execute_reply.started": "2023-03-21T17:52:28.600482Z"
    },
    "papermill": {
     "duration": 0.278313,
     "end_time": "2023-01-15T15:08:51.448481",
     "exception": false,
     "start_time": "2023-01-15T15:08:51.170168",
     "status": "completed"
    },
    "tags": []
   },
   "outputs": [
    {
     "data": {
      "text/html": [
       "<div>\n",
       "<style scoped>\n",
       "    .dataframe tbody tr th:only-of-type {\n",
       "        vertical-align: middle;\n",
       "    }\n",
       "\n",
       "    .dataframe tbody tr th {\n",
       "        vertical-align: top;\n",
       "    }\n",
       "\n",
       "    .dataframe thead th {\n",
       "        text-align: right;\n",
       "    }\n",
       "</style>\n",
       "<table border=\"1\" class=\"dataframe\">\n",
       "  <thead>\n",
       "    <tr style=\"text-align: right;\">\n",
       "      <th></th>\n",
       "      <th>image_name</th>\n",
       "    </tr>\n",
       "  </thead>\n",
       "  <tbody>\n",
       "    <tr>\n",
       "      <th>0</th>\n",
       "      <td>file_0.jpg</td>\n",
       "    </tr>\n",
       "    <tr>\n",
       "      <th>1</th>\n",
       "      <td>file_1.jpg</td>\n",
       "    </tr>\n",
       "    <tr>\n",
       "      <th>2</th>\n",
       "      <td>file_10.jpg</td>\n",
       "    </tr>\n",
       "    <tr>\n",
       "      <th>3</th>\n",
       "      <td>file_100.jpg</td>\n",
       "    </tr>\n",
       "    <tr>\n",
       "      <th>4</th>\n",
       "      <td>file_1000.jpg</td>\n",
       "    </tr>\n",
       "  </tbody>\n",
       "</table>\n",
       "</div>"
      ],
      "text/plain": [
       "      image_name\n",
       "0     file_0.jpg\n",
       "1     file_1.jpg\n",
       "2    file_10.jpg\n",
       "3   file_100.jpg\n",
       "4  file_1000.jpg"
      ]
     },
     "execution_count": 22,
     "metadata": {},
     "output_type": "execute_result"
    }
   ],
   "source": [
    "additional_df['image_name'] = additional_df['image_name'].apply(lambda x: '{}.jpg'.format(x))\n",
    "additional_df.head()"
   ]
  },
  {
   "cell_type": "code",
   "execution_count": 23,
   "id": "bba6c098",
   "metadata": {
    "execution": {
     "iopub.execute_input": "2023-03-21T17:52:28.624923Z",
     "iopub.status.busy": "2023-03-21T17:52:28.624460Z",
     "iopub.status.idle": "2023-03-21T17:53:04.446087Z",
     "shell.execute_reply": "2023-03-21T17:53:04.445038Z",
     "shell.execute_reply.started": "2023-03-21T17:52:28.624888Z"
    },
    "papermill": {
     "duration": 67.030358,
     "end_time": "2023-01-15T15:09:58.731183",
     "exception": false,
     "start_time": "2023-01-15T15:08:51.700825",
     "status": "completed"
    },
    "tags": []
   },
   "outputs": [
    {
     "name": "stdout",
     "output_type": "stream",
     "text": [
      "Found 20522 validated image filenames.\n"
     ]
    }
   ],
   "source": [
    "additional_gen = test_generator.flow_from_dataframe(dataframe=additional_df,\n",
    "                                                  directory=\"../input/planets-dataset/test-jpg-additional/test-jpg-additional\", \n",
    "                                                  x_col='image_name',\n",
    "                                                  y_col = None,\n",
    "                                                  batch_size=62,\n",
    "                                                  shuffle=False,\n",
    "                                                  class_mode=None, \n",
    "                                                  target_size=(128, 128))\n",
    "\n",
    "\n",
    "additional_step = additional_gen.n // additional_gen.batch_size"
   ]
  },
  {
   "cell_type": "code",
   "execution_count": 24,
   "id": "d73f3505",
   "metadata": {
    "execution": {
     "iopub.execute_input": "2023-03-21T17:53:04.447742Z",
     "iopub.status.busy": "2023-03-21T17:53:04.447368Z",
     "iopub.status.idle": "2023-03-21T17:55:17.875664Z",
     "shell.execute_reply": "2023-03-21T17:55:17.874649Z",
     "shell.execute_reply.started": "2023-03-21T17:53:04.447704Z"
    },
    "papermill": {
     "duration": 207.974033,
     "end_time": "2023-01-15T15:13:27.029037",
     "exception": false,
     "start_time": "2023-01-15T15:09:59.055004",
     "status": "completed"
    },
    "tags": []
   },
   "outputs": [
    {
     "name": "stdout",
     "output_type": "stream",
     "text": [
      "331/331 [==============================] - 133s 399ms/step\n"
     ]
    }
   ],
   "source": [
    "pred_additional = model.predict(additional_gen, steps=additional_step, verbose=1)"
   ]
  },
  {
   "cell_type": "code",
   "execution_count": 25,
   "id": "5eca62cf",
   "metadata": {
    "execution": {
     "iopub.execute_input": "2023-03-21T17:55:17.878728Z",
     "iopub.status.busy": "2023-03-21T17:55:17.878311Z",
     "iopub.status.idle": "2023-03-21T17:55:22.054895Z",
     "shell.execute_reply": "2023-03-21T17:55:22.053957Z",
     "shell.execute_reply.started": "2023-03-21T17:55:17.878689Z"
    },
    "papermill": {
     "duration": 6.059959,
     "end_time": "2023-01-15T15:13:33.434133",
     "exception": false,
     "start_time": "2023-01-15T15:13:27.374174",
     "status": "completed"
    },
    "tags": []
   },
   "outputs": [
    {
     "data": {
      "text/html": [
       "<div>\n",
       "<style scoped>\n",
       "    .dataframe tbody tr th:only-of-type {\n",
       "        vertical-align: middle;\n",
       "    }\n",
       "\n",
       "    .dataframe tbody tr th {\n",
       "        vertical-align: top;\n",
       "    }\n",
       "\n",
       "    .dataframe thead th {\n",
       "        text-align: right;\n",
       "    }\n",
       "</style>\n",
       "<table border=\"1\" class=\"dataframe\">\n",
       "  <thead>\n",
       "    <tr style=\"text-align: right;\">\n",
       "      <th></th>\n",
       "      <th>image_name</th>\n",
       "      <th>tags</th>\n",
       "    </tr>\n",
       "  </thead>\n",
       "  <tbody>\n",
       "    <tr>\n",
       "      <th>0</th>\n",
       "      <td>file_0.jpg</td>\n",
       "      <td>primary clear</td>\n",
       "    </tr>\n",
       "    <tr>\n",
       "      <th>1</th>\n",
       "      <td>file_1.jpg</td>\n",
       "      <td>primary agriculture water partly_cloudy bare_g...</td>\n",
       "    </tr>\n",
       "    <tr>\n",
       "      <th>2</th>\n",
       "      <td>file_10.jpg</td>\n",
       "      <td>haze primary agriculture clear water road</td>\n",
       "    </tr>\n",
       "    <tr>\n",
       "      <th>3</th>\n",
       "      <td>file_100.jpg</td>\n",
       "      <td>primary agriculture clear water road</td>\n",
       "    </tr>\n",
       "    <tr>\n",
       "      <th>4</th>\n",
       "      <td>file_1000.jpg</td>\n",
       "      <td>primary clear</td>\n",
       "    </tr>\n",
       "  </tbody>\n",
       "</table>\n",
       "</div>"
      ],
      "text/plain": [
       "      image_name                                               tags\n",
       "0     file_0.jpg                                      primary clear\n",
       "1     file_1.jpg  primary agriculture water partly_cloudy bare_g...\n",
       "2    file_10.jpg          haze primary agriculture clear water road\n",
       "3   file_100.jpg               primary agriculture clear water road\n",
       "4  file_1000.jpg                                      primary clear"
      ]
     },
     "execution_count": 25,
     "metadata": {},
     "output_type": "execute_result"
    }
   ],
   "source": [
    "additional_names = additional_gen.filenames \n",
    "        \n",
    "additional_result = pd.DataFrame(pred_additional)\n",
    "additional_result = additional_result.apply(lambda x: ' '.join(np.array(unique_tags)[x >= 0.2]), axis=1)\n",
    "\n",
    "additional_result_df = pd.DataFrame({'image_name': additional_names, 'tags': additional_result})\n",
    "additional_result_df.head()"
   ]
  },
  {
   "cell_type": "code",
   "execution_count": 26,
   "id": "4c9bc856",
   "metadata": {
    "execution": {
     "iopub.execute_input": "2023-03-21T17:55:22.056857Z",
     "iopub.status.busy": "2023-03-21T17:55:22.056486Z",
     "iopub.status.idle": "2023-03-21T17:55:22.076017Z",
     "shell.execute_reply": "2023-03-21T17:55:22.075116Z",
     "shell.execute_reply.started": "2023-03-21T17:55:22.056821Z"
    },
    "papermill": {
     "duration": 0.304777,
     "end_time": "2023-01-15T15:13:34.009784",
     "exception": false,
     "start_time": "2023-01-15T15:13:33.705007",
     "status": "completed"
    },
    "tags": []
   },
   "outputs": [
    {
     "data": {
      "text/html": [
       "<div>\n",
       "<style scoped>\n",
       "    .dataframe tbody tr th:only-of-type {\n",
       "        vertical-align: middle;\n",
       "    }\n",
       "\n",
       "    .dataframe tbody tr th {\n",
       "        vertical-align: top;\n",
       "    }\n",
       "\n",
       "    .dataframe thead th {\n",
       "        text-align: right;\n",
       "    }\n",
       "</style>\n",
       "<table border=\"1\" class=\"dataframe\">\n",
       "  <thead>\n",
       "    <tr style=\"text-align: right;\">\n",
       "      <th></th>\n",
       "      <th>image_name</th>\n",
       "      <th>tags</th>\n",
       "    </tr>\n",
       "  </thead>\n",
       "  <tbody>\n",
       "    <tr>\n",
       "      <th>0</th>\n",
       "      <td>test_0.jpg</td>\n",
       "      <td>primary clear</td>\n",
       "    </tr>\n",
       "    <tr>\n",
       "      <th>1</th>\n",
       "      <td>test_1.jpg</td>\n",
       "      <td>primary clear</td>\n",
       "    </tr>\n",
       "    <tr>\n",
       "      <th>2</th>\n",
       "      <td>test_2.jpg</td>\n",
       "      <td>primary partly_cloudy</td>\n",
       "    </tr>\n",
       "    <tr>\n",
       "      <th>3</th>\n",
       "      <td>test_3.jpg</td>\n",
       "      <td>primary clear</td>\n",
       "    </tr>\n",
       "    <tr>\n",
       "      <th>4</th>\n",
       "      <td>test_4.jpg</td>\n",
       "      <td>primary cloudy partly_cloudy</td>\n",
       "    </tr>\n",
       "    <tr>\n",
       "      <th>...</th>\n",
       "      <td>...</td>\n",
       "      <td>...</td>\n",
       "    </tr>\n",
       "    <tr>\n",
       "      <th>61186</th>\n",
       "      <td>file_9995.jpg</td>\n",
       "      <td>primary cloudy partly_cloudy</td>\n",
       "    </tr>\n",
       "    <tr>\n",
       "      <th>61187</th>\n",
       "      <td>file_9996.jpg</td>\n",
       "      <td>primary clear water</td>\n",
       "    </tr>\n",
       "    <tr>\n",
       "      <th>61188</th>\n",
       "      <td>file_9997.jpg</td>\n",
       "      <td>primary clear water</td>\n",
       "    </tr>\n",
       "    <tr>\n",
       "      <th>61189</th>\n",
       "      <td>file_9998.jpg</td>\n",
       "      <td>haze cloudy</td>\n",
       "    </tr>\n",
       "    <tr>\n",
       "      <th>61190</th>\n",
       "      <td>file_9999.jpg</td>\n",
       "      <td>primary clear habitation road</td>\n",
       "    </tr>\n",
       "  </tbody>\n",
       "</table>\n",
       "<p>61191 rows × 2 columns</p>\n",
       "</div>"
      ],
      "text/plain": [
       "          image_name                           tags\n",
       "0         test_0.jpg                  primary clear\n",
       "1         test_1.jpg                  primary clear\n",
       "2         test_2.jpg          primary partly_cloudy\n",
       "3         test_3.jpg                  primary clear\n",
       "4         test_4.jpg   primary cloudy partly_cloudy\n",
       "...              ...                            ...\n",
       "61186  file_9995.jpg   primary cloudy partly_cloudy\n",
       "61187  file_9996.jpg            primary clear water\n",
       "61188  file_9997.jpg            primary clear water\n",
       "61189  file_9998.jpg                    haze cloudy\n",
       "61190  file_9999.jpg  primary clear habitation road\n",
       "\n",
       "[61191 rows x 2 columns]"
      ]
     },
     "execution_count": 26,
     "metadata": {},
     "output_type": "execute_result"
    }
   ],
   "source": [
    "final_df = pd.concat([test_result_df, additional_result_df])\n",
    "final_df = final_df.reset_index().drop('index', axis =1)\n",
    "final_df"
   ]
  },
  {
   "cell_type": "code",
   "execution_count": 27,
   "id": "9ad03b5e",
   "metadata": {
    "execution": {
     "iopub.execute_input": "2023-03-21T17:55:22.077833Z",
     "iopub.status.busy": "2023-03-21T17:55:22.077387Z",
     "iopub.status.idle": "2023-03-21T17:55:22.111740Z",
     "shell.execute_reply": "2023-03-21T17:55:22.110845Z",
     "shell.execute_reply.started": "2023-03-21T17:55:22.077796Z"
    },
    "papermill": {
     "duration": 0.317868,
     "end_time": "2023-01-15T15:13:34.602702",
     "exception": false,
     "start_time": "2023-01-15T15:13:34.284834",
     "status": "completed"
    },
    "tags": []
   },
   "outputs": [
    {
     "data": {
      "text/html": [
       "<div>\n",
       "<style scoped>\n",
       "    .dataframe tbody tr th:only-of-type {\n",
       "        vertical-align: middle;\n",
       "    }\n",
       "\n",
       "    .dataframe tbody tr th {\n",
       "        vertical-align: top;\n",
       "    }\n",
       "\n",
       "    .dataframe thead th {\n",
       "        text-align: right;\n",
       "    }\n",
       "</style>\n",
       "<table border=\"1\" class=\"dataframe\">\n",
       "  <thead>\n",
       "    <tr style=\"text-align: right;\">\n",
       "      <th></th>\n",
       "      <th>image_name</th>\n",
       "      <th>tags</th>\n",
       "    </tr>\n",
       "  </thead>\n",
       "  <tbody>\n",
       "    <tr>\n",
       "      <th>0</th>\n",
       "      <td>test_0</td>\n",
       "      <td>primary clear</td>\n",
       "    </tr>\n",
       "    <tr>\n",
       "      <th>1</th>\n",
       "      <td>test_1</td>\n",
       "      <td>primary clear</td>\n",
       "    </tr>\n",
       "    <tr>\n",
       "      <th>2</th>\n",
       "      <td>test_2</td>\n",
       "      <td>primary partly_cloudy</td>\n",
       "    </tr>\n",
       "    <tr>\n",
       "      <th>3</th>\n",
       "      <td>test_3</td>\n",
       "      <td>primary clear</td>\n",
       "    </tr>\n",
       "    <tr>\n",
       "      <th>4</th>\n",
       "      <td>test_4</td>\n",
       "      <td>primary cloudy partly_cloudy</td>\n",
       "    </tr>\n",
       "    <tr>\n",
       "      <th>...</th>\n",
       "      <td>...</td>\n",
       "      <td>...</td>\n",
       "    </tr>\n",
       "    <tr>\n",
       "      <th>61186</th>\n",
       "      <td>file_9995</td>\n",
       "      <td>primary cloudy partly_cloudy</td>\n",
       "    </tr>\n",
       "    <tr>\n",
       "      <th>61187</th>\n",
       "      <td>file_9996</td>\n",
       "      <td>primary clear water</td>\n",
       "    </tr>\n",
       "    <tr>\n",
       "      <th>61188</th>\n",
       "      <td>file_9997</td>\n",
       "      <td>primary clear water</td>\n",
       "    </tr>\n",
       "    <tr>\n",
       "      <th>61189</th>\n",
       "      <td>file_9998</td>\n",
       "      <td>haze cloudy</td>\n",
       "    </tr>\n",
       "    <tr>\n",
       "      <th>61190</th>\n",
       "      <td>file_9999</td>\n",
       "      <td>primary clear habitation road</td>\n",
       "    </tr>\n",
       "  </tbody>\n",
       "</table>\n",
       "<p>61191 rows × 2 columns</p>\n",
       "</div>"
      ],
      "text/plain": [
       "      image_name                           tags\n",
       "0         test_0                  primary clear\n",
       "1         test_1                  primary clear\n",
       "2         test_2          primary partly_cloudy\n",
       "3         test_3                  primary clear\n",
       "4         test_4   primary cloudy partly_cloudy\n",
       "...          ...                            ...\n",
       "61186  file_9995   primary cloudy partly_cloudy\n",
       "61187  file_9996            primary clear water\n",
       "61188  file_9997            primary clear water\n",
       "61189  file_9998                    haze cloudy\n",
       "61190  file_9999  primary clear habitation road\n",
       "\n",
       "[61191 rows x 2 columns]"
      ]
     },
     "execution_count": 27,
     "metadata": {},
     "output_type": "execute_result"
    }
   ],
   "source": [
    "final_df['image_name'] = final_df['image_name'].apply(lambda x: x.replace('.jpg',''))\n",
    "final_df"
   ]
  },
  {
   "cell_type": "code",
   "execution_count": 28,
   "id": "ab4990e5",
   "metadata": {
    "execution": {
     "iopub.execute_input": "2023-03-21T17:55:22.117015Z",
     "iopub.status.busy": "2023-03-21T17:55:22.116732Z",
     "iopub.status.idle": "2023-03-21T17:55:22.199885Z",
     "shell.execute_reply": "2023-03-21T17:55:22.198922Z",
     "shell.execute_reply.started": "2023-03-21T17:55:22.116989Z"
    },
    "papermill": {
     "duration": 0.455282,
     "end_time": "2023-01-15T15:13:35.331055",
     "exception": false,
     "start_time": "2023-01-15T15:13:34.875773",
     "status": "completed"
    },
    "tags": []
   },
   "outputs": [],
   "source": [
    "# saving the final dataframe to csv for submission\n",
    "final_df.to_csv('submission.csv', index=False)"
   ]
  }
 ],
 "metadata": {
  "kernelspec": {
   "display_name": "Python 3 (ipykernel)",
   "language": "python",
   "name": "python3"
  },
  "language_info": {
   "codemirror_mode": {
    "name": "ipython",
    "version": 3
   },
   "file_extension": ".py",
   "mimetype": "text/x-python",
   "name": "python",
   "nbconvert_exporter": "python",
   "pygments_lexer": "ipython3",
   "version": "3.9.12"
  },
  "papermill": {
   "default_parameters": {},
   "duration": 3001.791256,
   "end_time": "2023-01-15T15:13:39.174619",
   "environment_variables": {},
   "exception": null,
   "input_path": "__notebook__.ipynb",
   "output_path": "__notebook__.ipynb",
   "parameters": {},
   "start_time": "2023-01-15T14:23:37.383363",
   "version": "2.3.4"
  }
 },
 "nbformat": 4,
 "nbformat_minor": 5
}
